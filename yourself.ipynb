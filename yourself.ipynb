{
 "cells": [
  {
   "cell_type": "code",
   "execution_count": null,
   "metadata": {},
   "outputs": [],
   "source": [
    "import os \n",
    "import pandas as pd\n",
    "import src.source as sr\n",
    "import seaborn as sns\n",
    "import matplotlib.pyplot as plt\n",
    "import re"
   ]
  },
  {
   "cell_type": "code",
   "execution_count": null,
   "metadata": {},
   "outputs": [],
   "source": [
    "spain = pd.read_csv('input/españa.csv',encoding='latin-1')\n",
    "terrorism = pd.read_csv('input/terrorism.csv',encoding='latin-1')"
   ]
  },
  {
   "cell_type": "markdown",
   "metadata": {},
   "source": [
    "### Para encontrar datos sobre un pais en concreto:"
   ]
  },
  {
   "cell_type": "code",
   "execution_count": null,
   "metadata": {},
   "outputs": [],
   "source": [
    "#Elegir el pais\n",
    "x=input(\"Elige el pais: \")\n",
    "pais=sr.datacol(terrorism,\"Country\",x)\n",
    "pais.head(10)"
   ]
  },
  {
   "cell_type": "markdown",
   "metadata": {},
   "source": [
    "En esta ocasión lo hacemos de manera mas general. Para cualquier DF/Columna\n",
    "Asi:\n",
    "Elegir columna y dato específico de modo que utilices arg1=Df, arg2=\"Columna\" y arg3=\"dato específico\""
   ]
  },
  {
   "cell_type": "code",
   "execution_count": null,
   "metadata": {},
   "outputs": [],
   "source": [
    "info=sr.datacol(arg1,arg2,arg3)\n",
    "info.head()"
   ]
  },
  {
   "cell_type": "markdown",
   "metadata": {},
   "source": [
    "### Esta función creará una gráfica de barras donde contará los sucesos de los diferentes datos de la columna elegida.\n",
    "\n",
    "¡Cambia los argumentos! por arg1=DF arg2=\"Columna\""
   ]
  },
  {
   "cell_type": "code",
   "execution_count": null,
   "metadata": {},
   "outputs": [],
   "source": [
    "sr.barplot(arg4,arg5)"
   ]
  },
  {
   "cell_type": "markdown",
   "metadata": {},
   "source": [
    "### Para contar sucesos como combinación de dos columnas.\n",
    "\n",
    "Cambiar los argumentos por arg1=DF, arg2=\"Columna2\", arg3=\"Columna3\""
   ]
  },
  {
   "cell_type": "code",
   "execution_count": null,
   "metadata": {},
   "outputs": [],
   "source": [
    "sr.barline(arg1,arg2,arg3)"
   ]
  },
  {
   "cell_type": "markdown",
   "metadata": {},
   "source": [
    "### !La siguiente función se quedará sólo con los top-5!\n",
    "\n",
    "No olvides cambiar los argumentos por arg1=DF y arg2=\"Columna\""
   ]
  },
  {
   "cell_type": "code",
   "execution_count": null,
   "metadata": {},
   "outputs": [],
   "source": [
    "sr.top5(arg1,arg5)"
   ]
  },
  {
   "cell_type": "markdown",
   "metadata": {},
   "source": [
    "### Esta última cambiará el dato buscando coincidencias y reemplazandolas por lo que uno quiera.\n",
    "\n",
    "Los argumentos arg1=DF, arg2=\"Columna\", arg3=\"dato que quieres cambiar\" y arg4= \"dato nuevo\".\n",
    "Para mejor visualización, devolverá sólo el principio del DF."
   ]
  },
  {
   "cell_type": "code",
   "execution_count": null,
   "metadata": {},
   "outputs": [],
   "source": [
    "sr.organice(arg1,arg2,arg3,arg4)"
   ]
  }
 ],
 "metadata": {
  "kernelspec": {
   "display_name": "Python 3",
   "language": "python",
   "name": "python3"
  },
  "language_info": {
   "codemirror_mode": {
    "name": "ipython",
    "version": 3
   },
   "file_extension": ".py",
   "mimetype": "text/x-python",
   "name": "python",
   "nbconvert_exporter": "python",
   "pygments_lexer": "ipython3",
   "version": "3.7.6"
  }
 },
 "nbformat": 4,
 "nbformat_minor": 4
}
